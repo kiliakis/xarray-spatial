{
 "cells": [
  {
   "cell_type": "code",
   "execution_count": 1,
   "metadata": {},
   "source": [
    "import numpy as np\n",
    "import xarray as xr\n",
    "import dask.array as da\n",
    "\n",
    "from xrspatial.utils import has_cuda\n",
    "from xrspatial.utils import doesnt_have_cuda\n",
    "from xrspatial.perlin import perlin\n",
    "from xrspatial.terrain import generate_terrain"
   ],
   "outputs": []
  },
  {
   "cell_type": "code",
   "execution_count": 2,
   "metadata": {},
   "source": [
    "def create_test_arr(backend='numpy'):\n",
    "    W = 20\n",
    "    H = 30\n",
    "    data = np.zeros((H, W), dtype=np.float32)\n",
    "    raster = xr.DataArray(data, dims=['y', 'x'])\n",
    "\n",
    "    if has_cuda() and 'cupy' in backend:\n",
    "        import cupy\n",
    "        raster.data = cupy.asarray(raster.data)\n",
    "\n",
    "    if 'dask' in backend:\n",
    "        raster.data = da.from_array(raster.data, chunks=(10, 10))\n",
    "\n",
    "    return raster"
   ],
   "outputs": []
  },
  {
   "cell_type": "code",
   "execution_count": 3,
   "metadata": {},
   "source": [
    "\n",
    "xrange = (-20e6, 20e6)\n",
    "yrange = (-20e6, 20e6)\n",
    "seed = 41\n",
    "zfactor = 4000"
   ],
   "outputs": []
  },
  {
   "cell_type": "code",
   "execution_count": 4,
   "metadata": {},
   "source": [
    "# vanilla numpy version\n",
    "data_numpy = create_test_arr()\n",
    "terrain_numpy = generate_terrain(data_numpy, xrange, yrange, seed, zfactor)"
   ],
   "outputs": []
  },
  {
   "cell_type": "code",
   "execution_count": 5,
   "metadata": {},
   "source": [
    "print(np.mean(terrain_numpy))"
   ],
   "outputs": [
    {
     "name": "stdout",
     "output_type": "stream",
     "text": [
      "<xarray.DataArray 'terrain' ()>\narray(2437.5474, dtype=float32)\n"
     ]
    }
   ]
  },
  {
   "cell_type": "code",
   "execution_count": 6,
   "metadata": {},
   "source": [
    "terrain_numpy = generate_terrain(data_numpy, xrange, yrange, seed, zfactor)\n",
    "print(np.mean(terrain_numpy))"
   ],
   "outputs": [
    {
     "name": "stdout",
     "output_type": "stream",
     "text": [
      "<xarray.DataArray 'terrain' ()>\narray(2437.5474, dtype=float32)\n"
     ]
    }
   ]
  },
  {
   "cell_type": "code",
   "execution_count": 7,
   "metadata": {},
   "source": [
    "# cupy\n",
    "data_cupy = create_test_arr(backend='cupy')\n",
    "terrain_cupy = generate_terrain(data_cupy, xrange, yrange, seed, zfactor)\n",
    "print(np.mean(terrain_cupy))"
   ],
   "outputs": [
    {
     "name": "stdout",
     "output_type": "stream",
     "text": [
      "griddim: (2, 1)\nblockdim: (22, 22)\nseed:  41 p[0]:  801069\n",
      "seed:  42 p[0]:  462211\nseed:  43 p[0]:  251472\nseed:  44 p[0]:  606264\nseed:  45 p[0]:  895839\nseed:  46 p[0]:  208881\nseed:  47 p[0]:  972710\nseed:  48 p[0]:  202104\n",
      "seed:  49 p[0]:  518679\nseed:  50 p[0]:  331787\nseed:  51 p[0]:  619013\nseed:  52 p[0]:  618644\nseed:  53 p[0]:  965063\nseed:  54 p[0]:  608748\nseed:  55 p[0]:  366089\n",
      "seed:  56 p[0]:  334034\n<xarray.DataArray 'terrain' ()>\narray(6.6666665, dtype=float32)\n"
     ]
    }
   ]
  },
  {
   "cell_type": "code",
   "execution_count": 8,
   "metadata": {},
   "source": [
    "terrain_cupy = generate_terrain(data_cupy, xrange, yrange, seed, zfactor)\n",
    "print(np.mean(terrain_cupy))"
   ],
   "outputs": [
    {
     "name": "stdout",
     "output_type": "stream",
     "text": [
      "griddim: (2, 1)\nblockdim: (22, 22)\nseed:  41 p[0]:  801069\nseed:  42 p[0]:  462211\nseed:  43 p[0]:  251472\nseed:  44 p[0]:  606264\nseed:  45 p[0]:  895839\n",
      "seed:  46 p[0]:  208881\n",
      "seed:  47 p[0]:  972710\nseed:  48 p[0]:  202104\nseed:  49 p[0]:  518679\nseed:  50 p[0]:  331787\nseed:  51 p[0]:  619013\nseed:  52 p[0]:  618644\n",
      "seed:  53 p[0]:  965063\n",
      "seed:  54 p[0]:  608748\nseed:  55 p[0]:  366089\nseed:  56 p[0]:  334034\n<xarray.DataArray 'terrain' ()>\narray(6.6666665, dtype=float32)\n"
     ]
    }
   ]
  },
  {
   "cell_type": "code",
   "execution_count": null,
   "metadata": {},
   "source": [],
   "outputs": []
  }
 ],
 "metadata": {
  "kernelspec": {
   "display_name": "Python 3",
   "language": "python",
   "name": "python3"
  },
  "language_info": {
   "file_extension": ".py",
   "mimetype": "text/x-python",
   "name": "python",
   "version": "3.9.2"
  }
 },
 "nbformat": 4,
 "nbformat_minor": 4
}
