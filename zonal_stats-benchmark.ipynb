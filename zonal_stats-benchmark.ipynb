{
 "cells": [
  {
   "cell_type": "markdown",
   "metadata": {},
   "source": [
    "## Zonal Module -- Stats method"
   ]
  },
  {
   "cell_type": "markdown",
   "metadata": {},
   "source": [
    "### Details\n",
    "\n",
    "TBD"
   ]
  },
  {
   "cell_type": "code",
   "execution_count": 2,
   "metadata": {},
   "outputs": [],
   "source": [
    "# importing modules\n",
    "import os\n",
    "import xarray as xr\n",
    "import time\n",
    "import cupy\n",
    "import numpy as np\n",
    "from xrspatial.utils import ngjit\n",
    "\n",
    "from xrspatial.zonal import stats\n",
    "from xrspatial.utils import has_cuda\n",
    "from xrspatial.utils import doesnt_have_cuda"
   ]
  },
  {
   "cell_type": "code",
   "execution_count": 3,
   "metadata": {},
   "outputs": [],
   "source": [
    "# function to allocate array to the requested backend\n",
    "def create_arr(data=None, H=10, W=10, backend='numpy'):\n",
    "    assert(backend in ['numpy', 'cupy', 'dask'])\n",
    "    if data is None:\n",
    "        data = np.zeros((H, W), dtype=np.float32)\n",
    "    raster = xr.DataArray(data, dims=['y', 'x'])\n",
    "\n",
    "    if has_cuda() and 'cupy' in backend:\n",
    "        import cupy\n",
    "        raster.data = cupy.asarray(raster.data)\n",
    "\n",
    "    if 'dask' in backend:\n",
    "        import dask.array as da\n",
    "        raster.data = da.from_array(raster.data, chunks=(10, 10))\n",
    "\n",
    "    return raster"
   ]
  },
  {
   "cell_type": "code",
   "execution_count": 4,
   "metadata": {},
   "outputs": [],
   "source": [
    "''' Configurable, input parameters.\n",
    "    @W: width\n",
    "    @H: height\n",
    "    @zH: zone width\n",
    "    @zW: zone height\n",
    "'''\n",
    "W = 3000\n",
    "H = 3000\n",
    "zH = 4\n",
    "zW = 4\n"
   ]
  },
  {
   "cell_type": "code",
   "execution_count": 5,
   "metadata": {},
   "outputs": [
    {
     "name": "stdout",
     "output_type": "stream",
     "text": [
      "Zones:  <xarray.DataArray (dim_0: 3000, dim_1: 3000)>\narray([[ 0.,  0.,  0., ...,  3.,  3.,  3.],\n       [ 0.,  0.,  0., ...,  3.,  3.,  3.],\n       [ 0.,  0.,  0., ...,  3.,  3.,  3.],\n       ...,\n       [12., 12., 12., ..., 15., 15., 15.],\n       [12., 12., 12., ..., 15., 15., 15.],\n       [12., 12., 12., ..., 15., 15., 15.]])\nDimensions without coordinates: dim_0, dim_1\n"
     ]
    }
   ],
   "source": [
    "# values rasters\n",
    "values = xr.DataArray(np.arange(H * W, dtype=float).reshape(H, W))\n",
    "values_numpy = create_arr(values, backend='numpy')\n",
    "values_cupy = create_arr(values, backend='cupy')\n",
    "\n",
    "# zones rasters\n",
    "zones = xr.DataArray(np.zeros(H * W).reshape(H, W))\n",
    "hstep = H//zH\n",
    "wstep = W//zW\n",
    "# initialize zones\n",
    "for i in range(zH):\n",
    "    for j in range(zW):\n",
    "        zones[i * hstep: (i+1)*hstep, j*wstep: (j+1)*wstep] = i*zW + j\n",
    "print('Zones: ', zones)\n",
    "\n",
    "zones_numpy = create_arr(zones, backend='numpy')\n",
    "zones_cupy = create_arr(zones, backend='cupy')"
   ]
  },
  {
   "cell_type": "markdown",
   "metadata": {},
   "source": [
    "### First Run: default stat funcs"
   ]
  },
  {
   "cell_type": "code",
   "execution_count": 6,
   "metadata": {},
   "outputs": [
    {
     "name": "stdout",
     "output_type": "stream",
     "text": [
      "1.64 s \u00b1 21.1 ms per loop (mean \u00b1 std. dev. of 7 runs, 1 loop each)\n"
     ]
    }
   ],
   "source": [
    "# Run numpy stats, using the default stat functions (mean, max, min, sum, std, var, count)\n",
    "numpy_time = %timeit -o numpy_stats = stats(zones=zones_numpy, values=values_numpy)"
   ]
  },
  {
   "cell_type": "code",
   "execution_count": 7,
   "metadata": {},
   "outputs": [],
   "source": [
    "#print('Numpy results:', numpy_stats)"
   ]
  },
  {
   "cell_type": "code",
   "execution_count": 8,
   "metadata": {},
   "outputs": [
    {
     "name": "stdout",
     "output_type": "stream",
     "text": [
      "220 ms \u00b1 146 \u00b5s per loop (mean \u00b1 std. dev. of 7 runs, 1 loop each)\n"
     ]
    }
   ],
   "source": [
    "# Run cupy stats, using the default stat functions (mean, max, min, sum, std, var, count)\n",
    "cupy_time = %timeit -o cupy_stats = stats(zones=zones_cupy, values=values_cupy)"
   ]
  },
  {
   "cell_type": "code",
   "execution_count": 9,
   "metadata": {},
   "outputs": [],
   "source": [
    "#print('Cupy results:', cupy_stats)"
   ]
  },
  {
   "cell_type": "code",
   "execution_count": 10,
   "metadata": {},
   "outputs": [
    {
     "name": "stdout",
     "output_type": "stream",
     "text": [
      "HxW      zHxzW    CPU Time (sec)     GPU Time (sec)    Speedup GPU\n3000x3000  4x4  1.642 \u00b1 0.021    0.220 \u00b1 0.000    7.48x\n"
     ]
    }
   ],
   "source": [
    "# prepare the results for reporting. \n",
    "mean_numpy_time = np.mean(numpy_time.all_runs)/numpy_time.loops\n",
    "std_numpy_time = np.std(numpy_time.all_runs)/numpy_time.loops\n",
    "\n",
    "mean_cupy_time = np.mean(cupy_time.all_runs)/cupy_time.loops\n",
    "std_cupy_time = np.std(cupy_time.all_runs)/cupy_time.loops\n",
    "\n",
    "speedup = mean_numpy_time / mean_cupy_time\n",
    "\n",
    "print('HxW      zHxzW    CPU Time (sec)     GPU Time (sec)    Speedup GPU')\n",
    "print('{}x{}  {}x{}  {:.3f} \u00b1 {:.3f}    {:.3f} \u00b1 {:.3f}    {:.2f}x'.format(\n",
    "        H, W, zH, zW, mean_numpy_time, std_numpy_time,\n",
    "        mean_cupy_time, std_cupy_time, speedup))"
   ]
  },
  {
   "cell_type": "markdown",
   "metadata": {},
   "source": [
    "### Second Run: custom stat funcs"
   ]
  },
  {
   "cell_type": "code",
   "execution_count": 11,
   "metadata": {},
   "outputs": [],
   "source": [
    "# define the custom functions for the numpy call\n",
    "# this function is optimized with numba\n",
    "@ngjit\n",
    "def numpyl2normKernel(arr):\n",
    "    acc = 0\n",
    "    for x in arr:\n",
    "        acc += x * x\n",
    "    return np.sqrt(acc)\n",
    "\n",
    "numpy_custom_stats = {\n",
    "    'double_sum': lambda val: val.sum()*2,\n",
    "    'l2norm': lambda val: np.sqrt(np.sum(val * val)),\n",
    "    'l2normKernel': lambda val: numpyl2normKernel(val)\n",
    "}"
   ]
  },
  {
   "cell_type": "code",
   "execution_count": 12,
   "metadata": {},
   "outputs": [],
   "source": [
    "# define the custom functions for the cupy call\n",
    "# this one is using the cupy ReductionKernel, a semi-manual way to define a CUDA kernel \n",
    "cupyl2normKernel = cupy.ReductionKernel(\n",
    "            in_params='T x', out_params='float64 y',\n",
    "            map_expr='x*x', reduce_expr='a+b',\n",
    "            post_map_expr='y = sqrt(a)',\n",
    "            identity='0', name='l2normKernel'\n",
    "        )\n",
    "\n",
    "cupy_custom_stats = {\n",
    "    'double_sum': lambda val: val.sum()*2,\n",
    "    # the same kernel can be implemented in a much more compact way too\n",
    "    'l2norm': lambda val: np.sqrt(cupy.sum(val * val)),\n",
    "    'l2normKernel': lambda val: cupyl2normKernel(val)\n",
    "}"
   ]
  },
  {
   "cell_type": "code",
   "execution_count": 13,
   "metadata": {},
   "outputs": [
    {
     "name": "stdout",
     "output_type": "stream",
     "text": [
      "1.6 s \u00b1 2.83 ms per loop (mean \u00b1 std. dev. of 7 runs, 1 loop each)\n"
     ]
    }
   ],
   "source": [
    "# Run numpy stats, using the the custom stat functions\n",
    "numpy_time = %timeit -o numpy_stats = stats(zones=zones_numpy, values=values_numpy, stats_funcs=numpy_custom_stats)"
   ]
  },
  {
   "cell_type": "code",
   "execution_count": 14,
   "metadata": {},
   "outputs": [],
   "source": [
    "#print('Numpy results:', numpy_stats)"
   ]
  },
  {
   "cell_type": "code",
   "execution_count": 15,
   "metadata": {},
   "outputs": [
    {
     "name": "stdout",
     "output_type": "stream",
     "text": [
      "31.4 ms \u00b1 7.58 \u00b5s per loop (mean \u00b1 std. dev. of 7 runs, 10 loops each)\n"
     ]
    }
   ],
   "source": [
    "# Run cupy stats, using the the custom stat functions\n",
    "cupy_time = %timeit -o cupy_stats = stats(zones=zones_cupy, values=values_cupy, stats_funcs=cupy_custom_stats)"
   ]
  },
  {
   "cell_type": "code",
   "execution_count": 16,
   "metadata": {},
   "outputs": [],
   "source": [
    "#print('Cupy results:', cupy_stats)"
   ]
  },
  {
   "cell_type": "code",
   "execution_count": 17,
   "metadata": {},
   "outputs": [
    {
     "name": "stdout",
     "output_type": "stream",
     "text": [
      "HxW      zHxzW    CPU Time (sec)     GPU Time (sec)    Speedup GPU\n3000x3000  4x4  1.604 \u00b1 0.003    0.031 \u00b1 0.000    51.07x\n"
     ]
    }
   ],
   "source": [
    "# prepare the results for reporting. \n",
    "mean_numpy_time = np.mean(numpy_time.all_runs)/numpy_time.loops\n",
    "std_numpy_time = np.std(numpy_time.all_runs)/numpy_time.loops\n",
    "\n",
    "mean_cupy_time = np.mean(cupy_time.all_runs)/cupy_time.loops\n",
    "std_cupy_time = np.std(cupy_time.all_runs)/cupy_time.loops\n",
    "\n",
    "speedup = mean_numpy_time / mean_cupy_time\n",
    "\n",
    "print('HxW      zHxzW    CPU Time (sec)     GPU Time (sec)    Speedup GPU')\n",
    "print('{}x{}  {}x{}  {:.3f} \u00b1 {:.3f}    {:.3f} \u00b1 {:.3f}    {:.2f}x'.format(\n",
    "        H, W, zH, zW, mean_numpy_time, std_numpy_time,\n",
    "        mean_cupy_time, std_cupy_time, speedup))"
   ]
  },
  {
   "cell_type": "code",
   "execution_count": 18,
   "metadata": {},
   "source": [
    "# Show GPU platform used for benchmarking\n",
    "!nvidia-smi -L"
   ],
   "outputs": [
    {
     "name": "stdout",
     "output_type": "stream",
     "text": [
      "GPU 0: Tesla V100S-PCIE-32GB (UUID: GPU-85a4a9af-34fa-d34e-ff49-a574a53d2c85)\r\n"
     ]
    }
   ]
  },
  {
   "cell_type": "code",
   "execution_count": null,
   "metadata": {},
   "source": [],
   "outputs": []
  }
 ],
 "metadata": {
  "kernelspec": {
   "display_name": "Python 3",
   "language": "python",
   "name": "python3"
  },
  "language_info": {
   "codemirror_mode": {
    "name": "ipython",
    "version": 3
   },
   "file_extension": ".py",
   "mimetype": "text/x-python",
   "name": "python",
   "nbconvert_exporter": "python",
   "pygments_lexer": "ipython3",
   "version": "3.7.4"
  }
 },
 "nbformat": 4,
 "nbformat_minor": 5
}
