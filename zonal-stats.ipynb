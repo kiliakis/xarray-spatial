{
 "cells": [
  {
   "cell_type": "code",
   "execution_count": null,
   "metadata": {},
   "outputs": [],
   "source": [
    "import numpy as np\n",
    "import xarray as xr\n",
    "\n",
    "import time\n",
    "import argparse\n",
    "from xrspatial.zonal import stats\n",
    "from xrspatial.utils import has_cuda\n",
    "from xrspatial.utils import doesnt_have_cuda"
   ]
  },
  {
   "cell_type": "code",
   "execution_count": null,
   "metadata": {},
   "outputs": [],
   "source": [
    "def create_arr(data=None, H=10, W=10, backend='numpy'):\n",
    "    assert(backend in ['numpy', 'cupy', 'dask'])\n",
    "    if data is None:\n",
    "        data = np.zeros((H, W), dtype=np.float32)\n",
    "    raster = xr.DataArray(data, dims=['y', 'x'])\n",
    "\n",
    "    if has_cuda() and 'cupy' in backend:\n",
    "        import cupy\n",
    "        raster.data = cupy.asarray(raster.data)\n",
    "\n",
    "    if 'dask' in backend:\n",
    "        import dask.array as da\n",
    "        raster.data = da.from_array(raster.data, chunks=(10, 10))\n",
    "\n",
    "    return raster"
   ]
  },
  {
   "cell_type": "code",
   "execution_count": null,
   "metadata": {},
   "outputs": [],
   "source": [
    "class Dummy:\n",
    "    pass\n",
    "args = Dummy()\n",
    "args.W = 10\n",
    "args.H = 10\n",
    "args.zH = 2\n",
    "args.zW = 2\n",
    "args.iterations = 1\n",
    "args.backend = 'numpy'"
   ]
  },
  {
   "cell_type": "code",
   "execution_count": null,
   "metadata": {},
   "outputs": [],
   "source": [
    "H = args.H\n",
    "W = args.W\n",
    "zH = args.zH\n",
    "zW = args.zW\n",
    "assert(W/zW == W//zW)\n",
    "assert(H/zH == H//zH)"
   ]
  },
  {
   "cell_type": "code",
   "execution_count": null,
   "metadata": {},
   "outputs": [],
   "source": [
    "# Values raster\n",
    "values = xr.DataArray(np.arange(H * W).reshape(H, W))\n",
    "values = create_arr(values, backend=args.backend)\n",
    "print(values)"
   ]
  },
  {
   "cell_type": "code",
   "execution_count": null,
   "metadata": {},
   "outputs": [],
   "source": [
    "# Zones raster\n",
    "hstep = H//zH\n",
    "wstep = W//zW\n",
    "zones = xr.DataArray(np.zeros(H * W).reshape(H, W))"
   ]
  },
  {
   "cell_type": "code",
   "execution_count": null,
   "metadata": {},
   "outputs": [],
   "source": [
    "for i in range(zH):\n",
    "    for j in range(zW):\n",
    "        zones[i * hstep: (i+1)*hstep, j*wstep: (j+1)*wstep] = i*zW + j\n",
    "print(zones)"
   ]
  },
  {
   "cell_type": "code",
   "execution_count": null,
   "metadata": {},
   "outputs": [],
   "source": [
    "# Profiling region, warming up\n",
    "start = time.time()\n",
    "stats_df = stats(zones=zones, values=values)\n",
    "warm_up_sec = time.time() - start"
   ]
  },
  {
   "cell_type": "code",
   "execution_count": null,
   "metadata": {},
   "outputs": [],
   "source": [
    "# main calculation loop\n",
    "elapsed_sec = 0\n",
    "for i in range(args.iterations):\n",
    "    start = time.time()\n",
    "    stats_df = stats(zones=zones, values=values)\n",
    "    # if args.backend == 'dask':\n",
    "    #     stats_df = stats_df.compute()\n",
    "    elapsed_sec += time.time() - start"
   ]
  },
  {
   "cell_type": "code",
   "execution_count": null,
   "metadata": {},
   "outputs": [],
   "source": [
    "# Timing report\n",
    "print('HxW,Runs,total_time(sec),time_per_run(sec),warm_up_time(sec)')\n",
    "print('{}x{},{},{:.4f},{:.4f},{:.4f}'.format(\n",
    "    H, W,\n",
    "    args.iterations, elapsed_sec,\n",
    "    elapsed_sec/args.iterations, warm_up_sec))"
   ]
  },
  {
   "cell_type": "code",
   "execution_count": null,
   "metadata": {},
   "outputs": [],
   "source": [
    "# results report\n",
    "print('Result: ', stats_df)"
   ]
  }
 ],
 "metadata": {
  "kernelspec": {
   "display_name": "Python 3",
   "language": "python",
   "name": "python3"
  },
  "language_info": {
   "codemirror_mode": {
    "name": "ipython",
    "version": 3
   },
   "file_extension": ".py",
   "mimetype": "text/x-python",
   "name": "python",
   "nbconvert_exporter": "python",
   "pygments_lexer": "ipython3",
   "version": "3.7.4"
  }
 },
 "nbformat": 4,
 "nbformat_minor": 4
}
